{
  "nbformat": 4,
  "nbformat_minor": 0,
  "metadata": {
    "colab": {
      "provenance": []
    },
    "kernelspec": {
      "name": "python3",
      "display_name": "Python 3"
    },
    "language_info": {
      "name": "python"
    },
    "widgets": {
      "application/vnd.jupyter.widget-state+json": {
        "fa3659f14be24648b187bd7b02083eb6": {
          "model_module": "@jupyter-widgets/controls",
          "model_name": "TextModel",
          "model_module_version": "1.5.0",
          "state": {
            "_dom_classes": [],
            "_model_module": "@jupyter-widgets/controls",
            "_model_module_version": "1.5.0",
            "_model_name": "TextModel",
            "_view_count": null,
            "_view_module": "@jupyter-widgets/controls",
            "_view_module_version": "1.5.0",
            "_view_name": "TextView",
            "continuous_update": true,
            "description": "Text:",
            "description_tooltip": null,
            "disabled": false,
            "layout": "IPY_MODEL_ccb162c62250402e9fb1d39a4b78f6ea",
            "placeholder": "Type in English please",
            "style": "IPY_MODEL_7cfb4442cb5c4cbd97c1d4bf716f0a89",
            "value": "Hello World"
          }
        },
        "ccb162c62250402e9fb1d39a4b78f6ea": {
          "model_module": "@jupyter-widgets/base",
          "model_name": "LayoutModel",
          "model_module_version": "1.2.0",
          "state": {
            "_model_module": "@jupyter-widgets/base",
            "_model_module_version": "1.2.0",
            "_model_name": "LayoutModel",
            "_view_count": null,
            "_view_module": "@jupyter-widgets/base",
            "_view_module_version": "1.2.0",
            "_view_name": "LayoutView",
            "align_content": null,
            "align_items": null,
            "align_self": null,
            "border": null,
            "bottom": null,
            "display": null,
            "flex": null,
            "flex_flow": null,
            "grid_area": null,
            "grid_auto_columns": null,
            "grid_auto_flow": null,
            "grid_auto_rows": null,
            "grid_column": null,
            "grid_gap": null,
            "grid_row": null,
            "grid_template_areas": null,
            "grid_template_columns": null,
            "grid_template_rows": null,
            "height": null,
            "justify_content": null,
            "justify_items": null,
            "left": null,
            "margin": null,
            "max_height": null,
            "max_width": null,
            "min_height": null,
            "min_width": null,
            "object_fit": null,
            "object_position": null,
            "order": null,
            "overflow": null,
            "overflow_x": null,
            "overflow_y": null,
            "padding": null,
            "right": null,
            "top": null,
            "visibility": null,
            "width": "80%"
          }
        },
        "7cfb4442cb5c4cbd97c1d4bf716f0a89": {
          "model_module": "@jupyter-widgets/controls",
          "model_name": "DescriptionStyleModel",
          "model_module_version": "1.5.0",
          "state": {
            "_model_module": "@jupyter-widgets/controls",
            "_model_module_version": "1.5.0",
            "_model_name": "DescriptionStyleModel",
            "_view_count": null,
            "_view_module": "@jupyter-widgets/base",
            "_view_module_version": "1.2.0",
            "_view_name": "StyleView",
            "description_width": ""
          }
        },
        "e65a508f2384449f930e7eec6331a154": {
          "model_module": "@jupyter-widgets/controls",
          "model_name": "ButtonModel",
          "model_module_version": "1.5.0",
          "state": {
            "_dom_classes": [],
            "_model_module": "@jupyter-widgets/controls",
            "_model_module_version": "1.5.0",
            "_model_name": "ButtonModel",
            "_view_count": null,
            "_view_module": "@jupyter-widgets/controls",
            "_view_module_version": "1.5.0",
            "_view_name": "ButtonView",
            "button_style": "success",
            "description": "Detect Emotion",
            "disabled": false,
            "icon": "",
            "layout": "IPY_MODEL_36e3b1dc669941c783df3757550e93b5",
            "style": "IPY_MODEL_d7a01d9c32f24edb8f774f759c5745ca",
            "tooltip": ""
          }
        },
        "36e3b1dc669941c783df3757550e93b5": {
          "model_module": "@jupyter-widgets/base",
          "model_name": "LayoutModel",
          "model_module_version": "1.2.0",
          "state": {
            "_model_module": "@jupyter-widgets/base",
            "_model_module_version": "1.2.0",
            "_model_name": "LayoutModel",
            "_view_count": null,
            "_view_module": "@jupyter-widgets/base",
            "_view_module_version": "1.2.0",
            "_view_name": "LayoutView",
            "align_content": null,
            "align_items": null,
            "align_self": null,
            "border": null,
            "bottom": null,
            "display": null,
            "flex": null,
            "flex_flow": null,
            "grid_area": null,
            "grid_auto_columns": null,
            "grid_auto_flow": null,
            "grid_auto_rows": null,
            "grid_column": null,
            "grid_gap": null,
            "grid_row": null,
            "grid_template_areas": null,
            "grid_template_columns": null,
            "grid_template_rows": null,
            "height": null,
            "justify_content": null,
            "justify_items": null,
            "left": null,
            "margin": null,
            "max_height": null,
            "max_width": null,
            "min_height": null,
            "min_width": null,
            "object_fit": null,
            "object_position": null,
            "order": null,
            "overflow": null,
            "overflow_x": null,
            "overflow_y": null,
            "padding": null,
            "right": null,
            "top": null,
            "visibility": null,
            "width": null
          }
        },
        "d7a01d9c32f24edb8f774f759c5745ca": {
          "model_module": "@jupyter-widgets/controls",
          "model_name": "ButtonStyleModel",
          "model_module_version": "1.5.0",
          "state": {
            "_model_module": "@jupyter-widgets/controls",
            "_model_module_version": "1.5.0",
            "_model_name": "ButtonStyleModel",
            "_view_count": null,
            "_view_module": "@jupyter-widgets/base",
            "_view_module_version": "1.2.0",
            "_view_name": "StyleView",
            "button_color": null,
            "font_weight": ""
          }
        }
      }
    }
  },
  "cells": [
    {
      "cell_type": "code",
      "source": [
        "import pandas as pd\n",
        "import numpy as np\n",
        "import seaborn as sns\n",
        "import matplotlib.pyplot as plt\n",
        "import nltk\n",
        "from sklearn.model_selection import train_test_split\n",
        "from sklearn.feature_extraction.text import TfidfVectorizer\n",
        "from sklearn.linear_model import LogisticRegression\n",
        "from sklearn.metrics import classification_report, confusion_matrix\n",
        "import ipywidgets as widgets\n",
        "from IPython.display import display, clear_output\n",
        "\n",
        "# Download\n",
        "nltk.download('stopwords')\n",
        "from nltk.corpus import stopwords\n",
        "stop_words = set(stopwords.words('english'))\n",
        "\n",
        "# Load dataset\n",
        "def load_dataset(path):\n",
        "    return pd.read_csv(path, sep=\";\", names=[\"content\", \"emotion\"])\n",
        "\n",
        "train_df = load_dataset(\"train.txt\")\n",
        "test_df = load_dataset(\"test.txt\")\n",
        "df = pd.concat([train_df, test_df], ignore_index=True)\n",
        "\n",
        "# Preprocessing\n",
        "def clean_text(text):\n",
        "    text = text.lower()\n",
        "    replacements = {\n",
        "        \":c\": \"sad\",\n",
        "        \":'(\": \"crying\",\n",
        "        \":)\": \"smile\",\n",
        "        \"xd\": \"laugh\",\n",
        "        \":/\": \"confused\",\n",
        "        \"💔\": \"broken\",\n",
        "        \"❤️\": \"love\"\n",
        "    }\n",
        "    for symbol, word in replacements.items():\n",
        "        text = text.replace(symbol, word)\n",
        "    words = text.split()\n",
        "    words = [word for word in words if word not in stop_words]\n",
        "    return \" \".join(words)\n",
        "\n",
        "df['content'] = df['content'].apply(clean_text)\n",
        "\n",
        "# Vectorization\n",
        "vectorizer = TfidfVectorizer(max_features=5000)\n",
        "X = vectorizer.fit_transform(df['content'])\n",
        "y = df['emotion']\n",
        "\n",
        "# Split data\n",
        "X_train, X_test, y_train, y_test = train_test_split(X, y, test_size=0.2, random_state=42)\n",
        "\n",
        "# Train\n",
        "model = LogisticRegression(max_iter=300)\n",
        "model.fit(X_train, y_train)\n",
        "\n",
        "# Test\n",
        "y_pred = model.predict(X_test)\n",
        "print(classification_report(y_test, y_pred))\n",
        "\n",
        "# Confusion matrix\n",
        "plt.figure(figsize=(10, 6))\n",
        "sns.heatmap(confusion_matrix(y_test, y_pred), annot=True, fmt=\"d\",\n",
        "            xticklabels=model.classes_, yticklabels=model.classes_, cmap=\"Blues\")\n",
        "plt.title(\"Confusion Matrix\")\n",
        "plt.xlabel(\"Predicted\")\n",
        "plt.ylabel(\"Actual\")\n",
        "plt.tight_layout()\n",
        "plt.show()"
      ],
      "metadata": {
        "colab": {
          "base_uri": "https://localhost:8080/",
          "height": 875
        },
        "id": "48oCi0iNztoO",
        "outputId": "4f6c65f7-04fd-4e3b-ed09-5612eacd975b"
      },
      "execution_count": 20,
      "outputs": [
        {
          "output_type": "stream",
          "name": "stderr",
          "text": [
            "[nltk_data] Downloading package stopwords to /root/nltk_data...\n",
            "[nltk_data]   Package stopwords is already up-to-date!\n"
          ]
        },
        {
          "output_type": "stream",
          "name": "stdout",
          "text": [
            "              precision    recall  f1-score   support\n",
            "\n",
            "       anger       0.92      0.78      0.84       465\n",
            "        fear       0.83      0.77      0.80       420\n",
            "         joy       0.84      0.96      0.89      1199\n",
            "        love       0.86      0.63      0.72       302\n",
            "     sadness       0.89      0.94      0.91      1079\n",
            "    surprise       0.85      0.47      0.61       135\n",
            "\n",
            "    accuracy                           0.86      3600\n",
            "   macro avg       0.86      0.76      0.80      3600\n",
            "weighted avg       0.86      0.86      0.86      3600\n",
            "\n"
          ]
        },
        {
          "output_type": "display_data",
          "data": {
            "text/plain": [
              "<Figure size 1000x600 with 2 Axes>"
            ],
            "image/png": "[encoded data removed]"
          },
          "metadata": {}
        }
      ]
    },
    {
      "cell_type": "code",
      "source": [
        "# Prediction\n",
        "def detect_emotion(text_input):\n",
        "    text_input = clean_text(text_input)\n",
        "    vector = vectorizer.transform([text_input])\n",
        "    prediction = model.predict(vector)[0]\n",
        "    return prediction\n",
        "\n",
        "# testing\n",
        "text_box = widgets.Text(\n",
        "    value='Hello World',\n",
        "    placeholder='Type in English please',\n",
        "    description='Text:',\n",
        "    layout=widgets.Layout(width='80%'),\n",
        "    disabled=False\n",
        ")\n",
        "\n",
        "button = widgets.Button(description=\"Detect Emotion\", button_style='success')\n",
        "\n",
        "def on_button_clicked(b):\n",
        "    clear_output(wait=True)\n",
        "    display(text_box, button)\n",
        "    result = detect_emotion(text_box.value)\n",
        "    print(f\"Emotion: {result}\")\n",
        "\n",
        "button.on_click(on_button_clicked)\n",
        "\n",
        "display(text_box, button)\n"
      ],
      "metadata": {
        "colab": {
          "base_uri": "https://localhost:8080/",
          "height": 82,
          "referenced_widgets": [
            "fa3659f14be24648b187bd7b02083eb6",
            "ccb162c62250402e9fb1d39a4b78f6ea",
            "7cfb4442cb5c4cbd97c1d4bf716f0a89",
            "e65a508f2384449f930e7eec6331a154",
            "36e3b1dc669941c783df3757550e93b5",
            "d7a01d9c32f24edb8f774f759c5745ca"
          ]
        },
        "id": "ajDcM2uEzwM4",
        "outputId": "fe52d124-bb44-4cc0-ecbd-f85e0ec92b71"
      },
      "execution_count": 25,
      "outputs": [
        {
          "output_type": "display_data",
          "data": {
            "text/plain": [
              "Text(value='Hello World', description='Text:', layout=Layout(width='80%'), placeholder='Type in English please…"
            ],
            "application/vnd.jupyter.widget-view+json": {
              "version_major": 2,
              "version_minor": 0,
              "model_id": "fa3659f14be24648b187bd7b02083eb6"
            }
          },
          "metadata": {}
        },
        {
          "output_type": "display_data",
          "data": {
            "text/plain": [
              "Button(button_style='success', description='Detect Emotion', style=ButtonStyle())"
            ],
            "application/vnd.jupyter.widget-view+json": {
              "version_major": 2,
              "version_minor": 0,
              "model_id": "e65a508f2384449f930e7eec6331a154"
            }
          },
          "metadata": {}
        }
      ]
    },
    {
      "cell_type": "code",
      "source": [],
      "metadata": {
        "id": "CsIRV-660AKn"
      },
      "execution_count": null,
      "outputs": []
    }
  ]
}